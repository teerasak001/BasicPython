{
 "cells": [
  {
   "cell_type": "code",
   "execution_count": 1,
   "metadata": {},
   "outputs": [
    {
     "name": "stdout",
     "output_type": "stream",
     "text": [
      "Weight = 58 | Height = 180 | Your BMI is 17.90\n"
     ]
    }
   ],
   "source": [
    "#Teerasak Songserm 6412732106\n",
    "weight,height = input('Enter your data ：').split()\n",
    "bmi = int(weight) / ((int(height)/100)**2)\n",
    "print(f\"Weight = {weight} | Height = {height} | Your BMI is {bmi:.2f}\")"
   ]
  }
 ],
 "metadata": {
  "interpreter": {
   "hash": "4228e47793787f021b2ddef867e129a9b8a9f488fc110fe00efc468877e8bac9"
  },
  "kernelspec": {
   "display_name": "Python 3.8.8 64-bit ('base': conda)",
   "language": "python",
   "name": "python3"
  },
  "language_info": {
   "codemirror_mode": {
    "name": "ipython",
    "version": 3
   },
   "file_extension": ".py",
   "mimetype": "text/x-python",
   "name": "python",
   "nbconvert_exporter": "python",
   "pygments_lexer": "ipython3",
   "version": "3.8.8"
  },
  "orig_nbformat": 4
 },
 "nbformat": 4,
 "nbformat_minor": 2
}
